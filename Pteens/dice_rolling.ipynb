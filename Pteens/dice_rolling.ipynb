{
 "cells": [
  {
   "cell_type": "code",
   "execution_count": null,
   "metadata": {},
   "outputs": [],
   "source": [
    "#This is a classic \"roll the dice\" program. \n",
    "#We will be using the random module for this,since we want to randomize the numberswe get from the dice. \n",
    "#We set two variables (min and max) , lowest and highest number of the dice. \n",
    "#We then use a while loop, so that the user can roll the dice again. \n",
    "#The roll_again can be set to any value, but here it's set to \"yes\" or \"y\", \n",
    "#but you can also add other variations to it. \n",
    "\n",
    "import random\n",
    "min = 1\n",
    "max = 6\n",
    "\n",
    "roll_again = \"yes\"\n",
    "\n",
    "while roll_again == \"yes\" or roll_again == \"y\":\n",
    "    print (\"You have a \", random.randint(min, max), \",\", random.randint(min, max))\n",
    "\n",
    "    roll_again = input(\"Roll the dices again?\")"
   ]
  },
  {
   "cell_type": "code",
   "execution_count": null,
   "metadata": {},
   "outputs": [],
   "source": []
  }
 ],
 "metadata": {
  "kernelspec": {
   "display_name": "Python 3",
   "language": "python",
   "name": "python3"
  },
  "language_info": {
   "codemirror_mode": {
    "name": "ipython",
    "version": 3
   },
   "file_extension": ".py",
   "mimetype": "text/x-python",
   "name": "python",
   "nbconvert_exporter": "python",
   "pygments_lexer": "ipython3",
   "version": "3.7.4"
  }
 },
 "nbformat": 4,
 "nbformat_minor": 2
}
