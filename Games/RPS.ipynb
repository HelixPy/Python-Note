{
 "cells": [
  {
   "cell_type": "code",
   "execution_count": 1,
   "metadata": {},
   "outputs": [
    {
     "name": "stdout",
     "output_type": "stream",
     "text": [
      "Rock, Paper, Scissors?Paper\n",
      "You lose! Scissors cut Paper\n",
      "Do you want to continue? Y or N: y\n",
      "Rock, Paper, Scissors?Rock\n",
      "Tie!\n",
      "Do you want to continue? Y or N: y\n",
      "Rock, Paper, Scissors?Scissors\n",
      "You win! Scissors cut Paper\n",
      "Do you want to continue? Y or N: n\n"
     ]
    }
   ],
   "source": [
    "from random import randint\n",
    "\n",
    "#create a list of play options\n",
    "t = [\"Rock\", \"Paper\", \"Scissors\"]\n",
    "\n",
    "#set player to False\n",
    "playing = True\n",
    "\n",
    "while playing == True:\n",
    "    #assign a random play to the computer\n",
    "    computer = t[randint(0,2)]\n",
    "    \n",
    "    player = input(\"Rock, Paper, Scissors?\")\n",
    "    if player == computer:\n",
    "        print(\"Tie!\")\n",
    "        choice = input('Do you want to continue? Y or N: ')\n",
    "        if choice.lower() == 'n':\n",
    "            playing = False\n",
    "    elif player == \"Rock\":\n",
    "        if computer == \"Paper\":\n",
    "            print(\"You lose!\", computer, \"covers\", player)\n",
    "        else:\n",
    "            print(\"You win!\", player, \"smashes\", computer)\n",
    "        choice = input('Do you want to continue? Y or N: ')\n",
    "        if choice.lower() == 'n':\n",
    "            playing = False\n",
    "    elif player == \"Paper\":\n",
    "        if computer == \"Scissors\":\n",
    "            print(\"You lose!\", computer, \"cut\", player)\n",
    "        else:\n",
    "            print(\"You win!\", player, \"covers\", computer)\n",
    "        choice = input('Do you want to continue? Y or N: ')\n",
    "        if choice.lower() == 'n':\n",
    "            playing = False\n",
    "    elif player == \"Scissors\":\n",
    "        if computer == \"Rock\":\n",
    "            print(\"You lose...\", computer, \"smashes\", player)\n",
    "        else:\n",
    "            print(\"You win!\", player, \"cut\", computer)\n",
    "        choice = input('Do you want to continue? Y or N: ')\n",
    "        if choice.lower() == 'n':\n",
    "            playing = False\n",
    "    else:\n",
    "        print(\"That's not a valid play. Check your spelling!\")"
   ]
  },
  {
   "cell_type": "code",
   "execution_count": null,
   "metadata": {},
   "outputs": [],
   "source": []
  }
 ],
 "metadata": {
  "kernelspec": {
   "display_name": "Python 3",
   "language": "python",
   "name": "python3"
  },
  "language_info": {
   "codemirror_mode": {
    "name": "ipython",
    "version": 3
   },
   "file_extension": ".py",
   "mimetype": "text/x-python",
   "name": "python",
   "nbconvert_exporter": "python",
   "pygments_lexer": "ipython3",
   "version": "3.7.4"
  }
 },
 "nbformat": 4,
 "nbformat_minor": 2
}
